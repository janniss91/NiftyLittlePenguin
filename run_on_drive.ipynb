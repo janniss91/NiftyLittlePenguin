{
 "cells": [
  {
   "cell_type": "code",
   "execution_count": null,
   "metadata": {
    "colab": {
     "base_uri": "https://localhost:8080/"
    },
    "executionInfo": {
     "elapsed": 132526,
     "status": "ok",
     "timestamp": 1676735908797,
     "user": {
      "displayName": "janniss@hotmail.de",
      "userId": "13828754488773060028"
     },
     "user_tz": -60
    },
    "id": "WYbpRLYkz4y-",
    "outputId": "0bf4c192-5f55-496d-ead8-8ad5d82dfd5a"
   },
   "outputs": [],
   "source": [
    "import os\n",
    "from google.colab import drive\n",
    "drive.mount(\"/content/drive\")\n",
    "os.chdir(\"/content/drive/MyDrive/NiftyLittlePenguin\")\n",
    "\n",
    "! pip install -q -r requirements.txt"
   ]
  },
  {
   "cell_type": "code",
   "execution_count": null,
   "metadata": {
    "colab": {
     "base_uri": "https://localhost:8080/"
    },
    "executionInfo": {
     "elapsed": 18307,
     "status": "ok",
     "timestamp": 1676735927081,
     "user": {
      "displayName": "janniss@hotmail.de",
      "userId": "13828754488773060028"
     },
     "user_tz": -60
    },
    "id": "oe3TslB25hX8",
    "outputId": "94a8c263-ed38-4108-b7d1-90d1babb80d6"
   },
   "outputs": [],
   "source": [
    "! pip install -q protobuf==3.19.0\n",
    "! pip install -q tensorboard==2.11.0\n",
    "! pip install -q memory_profiler"
   ]
  },
  {
   "cell_type": "code",
   "execution_count": null,
   "metadata": {
    "colab": {
     "base_uri": "https://localhost:8080/"
    },
    "executionInfo": {
     "elapsed": 906946,
     "status": "ok",
     "timestamp": 1676736833985,
     "user": {
      "displayName": "janniss@hotmail.de",
      "userId": "13828754488773060028"
     },
     "user_tz": -60
    },
    "id": "QGTFo4lw0RQC",
    "outputId": "6553844e-88f7-4e96-b395-ebe7387d979c"
   },
   "outputs": [],
   "source": [
    "! python3 -m niftylittlepenguin.qa.train"
   ]
  },
  {
   "cell_type": "code",
   "execution_count": null,
   "metadata": {
    "id": "BwMHFSMZ8QE3"
   },
   "outputs": [],
   "source": []
  }
 ],
 "metadata": {
  "accelerator": "GPU",
  "colab": {
   "provenance": []
  },
  "gpuClass": "standard",
  "kernelspec": {
   "display_name": "Python 3 (ipykernel)",
   "language": "python",
   "name": "python3"
  },
  "language_info": {
   "codemirror_mode": {
    "name": "ipython",
    "version": 3
   },
   "file_extension": ".py",
   "mimetype": "text/x-python",
   "name": "python",
   "nbconvert_exporter": "python",
   "pygments_lexer": "ipython3",
   "version": "3.10.6"
  },
  "vscode": {
   "interpreter": {
    "hash": "0bb3a3138e17d790974cb7c99030889f55821ce59be1e8d779c2233900fb41ca"
   }
  }
 },
 "nbformat": 4,
 "nbformat_minor": 4
}
